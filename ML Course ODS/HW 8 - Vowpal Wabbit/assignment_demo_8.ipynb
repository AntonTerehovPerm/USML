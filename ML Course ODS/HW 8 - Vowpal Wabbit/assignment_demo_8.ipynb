{
 "cells": [
  {
   "cell_type": "markdown",
   "metadata": {},
   "source": [
    "# Linear regression and Stochastic Gradient Descent"
   ]
  },
  {
   "cell_type": "code",
   "execution_count": 1,
   "metadata": {},
   "outputs": [],
   "source": [
    "import numpy as np\n",
    "import pandas as pd\n",
    "from tqdm import tqdm\n",
    "from sklearn.base import BaseEstimator\n",
    "from sklearn.metrics import mean_squared_error, log_loss, roc_auc_score\n",
    "from sklearn.model_selection import train_test_split\n",
    "%matplotlib inline\n",
    "from matplotlib import pyplot as plt\n",
    "import seaborn as sns\n",
    "from sklearn.preprocessing import StandardScaler"
   ]
  },
  {
   "cell_type": "code",
   "execution_count": 2,
   "metadata": {},
   "outputs": [],
   "source": [
    "class SGDRegressor(BaseEstimator):\n",
    "    \n",
    "    def __init__(self, eta=1e-3, n_epochs=3):\n",
    "        self.eta = eta\n",
    "        self.n_epochs = n_epochs\n",
    "        self.mse_ = []\n",
    "        self.weights_ = []\n",
    "        \n",
    "    def fit(self, X, y):\n",
    "        # add a column of ones to the left from X\n",
    "        X = np.hstack([np.ones([X.shape[0], 1]), X])\n",
    "        \n",
    "        # initialize w with zeros, (d + 1)-dimensional (2-dimensional)\n",
    "        w = np.zeros(X.shape[1])\n",
    "        \n",
    "        for it in tqdm(range(self.n_epochs)):\n",
    "            for i in range(X.shape[0]):\n",
    "                \n",
    "                # new_w is used for simultanious updates of w_0, w_1, ..., w_d\n",
    "                new_w = w.copy()\n",
    "                # special (simpler) formula for w_0\n",
    "                new_w[0] += self.eta * (y[i] - w.dot(X[i, :]))\n",
    "                for j in range(1, X.shape[1]):\n",
    "                    new_w[j] += self.eta * (y[i] - w.dot(X[i, :])) * X[i, j]  \n",
    "                w = new_w.copy()\n",
    "                \n",
    "                # store the current weight vector\n",
    "                self.weights_.append(w)\n",
    "                # store current loss function\n",
    "                self.mse_.append(mean_squared_error(y, X.dot(w)))\n",
    "        # the \"best\" vector of weights        \n",
    "        self.w_ = self.weights_[np.argmin(self.mse_)]\n",
    "                \n",
    "        return self\n",
    "                  \n",
    "    def predict(self, X):\n",
    "        # add a column of ones to the left from X\n",
    "        X = np.hstack([np.ones([X.shape[0], 1]), X])\n",
    "        # linear prediction\n",
    "        return X.dot(self.w_)    "
   ]
  },
  {
   "cell_type": "code",
   "execution_count": 3,
   "metadata": {},
   "outputs": [],
   "source": [
    "data_demo = pd.read_csv('../data/weights_heights.csv')"
   ]
  },
  {
   "cell_type": "code",
   "execution_count": 4,
   "metadata": {},
   "outputs": [
    {
     "data": {
      "image/png": "[encoded data removed]",
      "text/plain": [
       "<Figure size 432x288 with 1 Axes>"
      ]
     },
     "metadata": {
      "needs_background": "light"
     },
     "output_type": "display_data"
    }
   ],
   "source": [
    "plt.scatter(data_demo['Weight'], data_demo['Height']);\n",
    "plt.xlabel('Weight (lbs)')\n",
    "plt.ylabel('Height (Inch)')\n",
    "plt.grid();"
   ]
  },
  {
   "cell_type": "code",
   "execution_count": 4,
   "metadata": {},
   "outputs": [],
   "source": [
    "X, y = data_demo['Weight'].values, data_demo['Height'].values"
   ]
  },
  {
   "cell_type": "code",
   "execution_count": 5,
   "metadata": {},
   "outputs": [],
   "source": [
    "X_train, X_valid, y_train, y_valid = train_test_split(X, y,\n",
    "                                                     test_size=0.3,\n",
    "                                                     random_state=17)"
   ]
  },
  {
   "cell_type": "code",
   "execution_count": 6,
   "metadata": {},
   "outputs": [],
   "source": [
    "scaler = StandardScaler()\n",
    "X_train_scaled = scaler.fit_transform(X_train.reshape([-1, 1]))\n",
    "X_valid_scaled = scaler.transform(X_valid.reshape([-1, 1]))"
   ]
  },
  {
   "cell_type": "markdown",
   "metadata": {},
   "source": [
    "Train created `SGDRegressor` with (`X_train_scaled`, `y_train`) data. Leave default parameter values for now."
   ]
  },
  {
   "cell_type": "code",
   "execution_count": 7,
   "metadata": {},
   "outputs": [
    {
     "name": "stderr",
     "output_type": "stream",
     "text": [
      "100%|███████████████████████████████████████████████████████████████████████████████████████████████████████████████████████████████████████████████████████| 3/3 [00:11<00:00,  3.72s/it]\n"
     ]
    },
    {
     "data": {
      "text/plain": [
       "SGDRegressor(eta=0.001, n_epochs=3)"
      ]
     },
     "execution_count": 7,
     "metadata": {},
     "output_type": "execute_result"
    }
   ],
   "source": [
    "sgd = SGDRegressor(eta=0.001, n_epochs=3)\n",
    "sgd.fit(X_train_scaled, y_train)"
   ]
  },
  {
   "cell_type": "code",
   "execution_count": 8,
   "metadata": {},
   "outputs": [
    {
     "data": {
      "text/plain": [
       "range(0, 52500)"
      ]
     },
     "execution_count": 8,
     "metadata": {},
     "output_type": "execute_result"
    }
   ],
   "source": [
    "range(len(sgd.mse_))"
   ]
  },
  {
   "cell_type": "code",
   "execution_count": 9,
   "metadata": {},
   "outputs": [
    {
     "data": {
      "image/png": "[encoded data removed]",
      "text/plain": [
       "<Figure size 432x288 with 1 Axes>"
      ]
     },
     "metadata": {
      "needs_background": "light"
     },
     "output_type": "display_data"
    }
   ],
   "source": [
    "#sns.plot(range(len(sgd.mse_)),sgd.mse_);\n",
    "plt.plot(range(len(sgd.mse_)), sgd.mse_, marker='o', color='mediumvioletred')\n",
    "plt.show()"
   ]
  },
  {
   "cell_type": "markdown",
   "metadata": {},
   "source": [
    "Print the minimal value of mean squared error and the best weights vector."
   ]
  },
  {
   "cell_type": "code",
   "execution_count": 10,
   "metadata": {},
   "outputs": [
    {
     "data": {
      "text/plain": [
       "2.7151352406643627"
      ]
     },
     "execution_count": 10,
     "metadata": {},
     "output_type": "execute_result"
    }
   ],
   "source": [
    "sgd.mse_[12626]"
   ]
  },
  {
   "cell_type": "code",
   "execution_count": 11,
   "metadata": {},
   "outputs": [
    {
     "data": {
      "text/plain": [
       "array([67.9898497 ,  0.94447605])"
      ]
     },
     "execution_count": 11,
     "metadata": {},
     "output_type": "execute_result"
    }
   ],
   "source": [
    "sgd.w_"
   ]
  },
  {
   "cell_type": "markdown",
   "metadata": {},
   "source": [
    "Draw chart of model weights (w0 and w1) behavior during training."
   ]
  },
  {
   "cell_type": "code",
   "execution_count": 12,
   "metadata": {},
   "outputs": [
    {
     "data": {
      "text/plain": [
       "array([ 0.06903432, -0.04162395])"
      ]
     },
     "execution_count": 12,
     "metadata": {},
     "output_type": "execute_result"
    }
   ],
   "source": [
    "sgd.weights_[0]"
   ]
  },
  {
   "cell_type": "code",
   "execution_count": 17,
   "metadata": {
    "scrolled": false
   },
   "outputs": [
    {
     "data": {
      "image/png": "[encoded data removed]",
      "text/plain": [
       "<Figure size 432x288 with 2 Axes>"
      ]
     },
     "metadata": {
      "needs_background": "light"
     },
     "output_type": "display_data"
    }
   ],
   "source": [
    "# you code here\n",
    "plt.subplot(121)\n",
    "plt.plot(range(len(sgd.weights_)), \n",
    "         [w[0] for w in sgd.weights_]);\n",
    "plt.subplot(122)\n",
    "plt.plot(range(len(sgd.weights_)), \n",
    "         [w[1] for w in sgd.weights_]);"
   ]
  },
  {
   "cell_type": "markdown",
   "metadata": {},
   "source": [
    "Make a prediction for hold-out set (`X_valid_scaled`, `y_valid`) and check MSE value"
   ]
  },
  {
   "cell_type": "code",
   "execution_count": 19,
   "metadata": {},
   "outputs": [
    {
     "data": {
      "text/plain": [
       "2.6708681207033784"
      ]
     },
     "execution_count": 19,
     "metadata": {},
     "output_type": "execute_result"
    }
   ],
   "source": [
    "\n",
    "\n",
    "# you code here\n",
    "sgd_holdout_mse = mean_squared_error(y_valid, \n",
    "                                        sgd.predict(X_valid_scaled))\n",
    "sgd_holdout_mse\n",
    "\n"
   ]
  },
  {
   "cell_type": "code",
   "execution_count": 20,
   "metadata": {},
   "outputs": [],
   "source": [
    "from sklearn.linear_model import LinearRegression "
   ]
  },
  {
   "cell_type": "code",
   "execution_count": 21,
   "metadata": {},
   "outputs": [],
   "source": [
    "lr = LinearRegression()"
   ]
  },
  {
   "cell_type": "code",
   "execution_count": 22,
   "metadata": {},
   "outputs": [
    {
     "data": {
      "text/plain": [
       "LinearRegression(copy_X=True, fit_intercept=True, n_jobs=None,\n",
       "         normalize=False)"
      ]
     },
     "execution_count": 22,
     "metadata": {},
     "output_type": "execute_result"
    }
   ],
   "source": [
    "lr.fit(X_train_scaled, y_train)"
   ]
  },
  {
   "cell_type": "code",
   "execution_count": 23,
   "metadata": {},
   "outputs": [],
   "source": [
    "linreg_holdout_mse = mean_squared_error(y_valid, lr.predict(X_valid_scaled))"
   ]
  },
  {
   "cell_type": "code",
   "execution_count": 24,
   "metadata": {},
   "outputs": [
    {
     "name": "stdout",
     "output_type": "stream",
     "text": [
      "Correct!\n"
     ]
    }
   ],
   "source": [
    "try:\n",
    "    assert (sgd_holdout_mse - linreg_holdout_mse) < 1e-4\n",
    "    print('Correct!')\n",
    "except AssertionError:\n",
    "    print(\"Something's not good.\\n Linreg's holdout MSE: {}\"\n",
    "          \"\\n SGD's holdout MSE: {}\".format(linreg_holdout_mse, \n",
    "                                            sgd_holdout_mse))"
   ]
  },
  {
   "cell_type": "code",
   "execution_count": 20,
   "metadata": {},
   "outputs": [],
   "source": [
    "class SGDRegressor1(BaseEstimator):\n",
    "    \n",
    "    def __init__(self, eta=1e-3, n_epochs=3):\n",
    "        self.eta = eta\n",
    "        self.n_epochs = n_epochs\n",
    "        \n",
    "        self.mse_ = []\n",
    "        self.weight_ = []\n",
    "    \n",
    "    def fit(self, X, y):\n",
    "        X = np.c_[np.ones(len(X)), X]\n",
    "        w = np.zeros((X.shape[1]))\n",
    "        y = y.reshape(-1)\n",
    "        for i in range(self.n_epochs): \n",
    "            np.random.seed(17+i)\n",
    "            w += self.eta *\\\n",
    "                    ((y - X.dot(w))[np.random.choice(len(X), 1, replace=False)[0]]) *\\\n",
    "                                    X[np.random.choice(len(X), 1, replace=False)[0]]\n",
    "            self.weight_.append(np.copy(w))                \n",
    "            self.mse_.append(np.sum((y - X.dot(w))**2)/len(X))\n",
    "        self.w_ = self.weight_[np.argmin(self.mse_)]\n",
    "        return self\n",
    "\n",
    "    def predict(self, X):\n",
    "        X = np.c_[np.ones(len(X)), X]\n",
    "        return X.dot(self.w_)"
   ]
  },
  {
   "cell_type": "code",
   "execution_count": 23,
   "metadata": {},
   "outputs": [],
   "source": [
    "sgd_holdout_mse1 = mean_squared_error(y_valid, sgd1.predict(X_valid_scaled))"
   ]
  },
  {
   "cell_type": "code",
   "execution_count": 24,
   "metadata": {},
   "outputs": [
    {
     "data": {
      "text/plain": [
       "(2.6706991199703296, 2.670830767667634)"
      ]
     },
     "execution_count": 24,
     "metadata": {},
     "output_type": "execute_result"
    }
   ],
   "source": [
    "sgd_holdout_mse1, linreg_holdout_mse"
   ]
  },
  {
   "cell_type": "code",
   "execution_count": 25,
   "metadata": {},
   "outputs": [
    {
     "name": "stdout",
     "output_type": "stream",
     "text": [
      "Correct!\n"
     ]
    }
   ],
   "source": [
    "try:\n",
    "    assert (sgd_holdout_mse1 - linreg_holdout_mse) < 1e-4\n",
    "    print('Correct!')\n",
    "except AssertionError:\n",
    "    print(\"Something's not good.\\n Linreg's holdout MSE: {}\"\n",
    "          \"\\n SGD's holdout MSE: {}\".format(linreg_holdout_mse, \n",
    "                                            sgd_holdout_mse1))"
   ]
  }
 ],
 "metadata": {
  "kernelspec": {
   "display_name": "Python 3",
   "language": "python",
   "name": "python3"
  },
  "language_info": {
   "codemirror_mode": {
    "name": "ipython",
    "version": 3
   },
   "file_extension": ".py",
   "mimetype": "text/x-python",
   "name": "python",
   "nbconvert_exporter": "python",
   "pygments_lexer": "ipython3",
   "version": "3.6.7"
  }
 },
 "nbformat": 4,
 "nbformat_minor": 2
}
