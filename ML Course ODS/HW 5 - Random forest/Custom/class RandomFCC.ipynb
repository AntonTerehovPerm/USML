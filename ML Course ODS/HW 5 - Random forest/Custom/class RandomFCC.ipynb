{
 "cells": [
  {
   "cell_type": "code",
   "execution_count": 1,
   "metadata": {},
   "outputs": [],
   "source": [
    "import pandas as pd\n",
    "from sklearn.tree import DecisionTreeClassifier\n",
    "from sklearn.model_selection import GridSearchCV, StratifiedKFold\n",
    "from sklearn.ensemble import RandomForestClassifier\n",
    "import numpy as np\n",
    "import warnings\n",
    "from sklearn.base import BaseEstimator\n",
    "from sklearn.model_selection import cross_val_score\n",
    "warnings.filterwarnings('ignore')"
   ]
  },
  {
   "cell_type": "code",
   "execution_count": 2,
   "metadata": {},
   "outputs": [],
   "source": [
    "data = pd.read_csv('../data/credit_scoring_sample.csv', sep=\";\")"
   ]
  },
  {
   "cell_type": "code",
   "execution_count": 3,
   "metadata": {},
   "outputs": [],
   "source": [
    "def impute_nan_with_median(table):\n",
    "    for col in table.columns:\n",
    "        table[col]= table[col].fillna(table[col].median())\n",
    "    return table  \n",
    "independent_columns_names = data.columns.values\n",
    "independent_columns_names = [x for x in data if x != 'SeriousDlqin2yrs']\n",
    "table = impute_nan_with_median(data)\n",
    "X = table[independent_columns_names]\n",
    "y = table['SeriousDlqin2yrs']"
   ]
  },
  {
   "cell_type": "code",
   "execution_count": 4,
   "metadata": {},
   "outputs": [],
   "source": [
    "class RandomForestClassifierCustom(BaseEstimator):\n",
    "    \n",
    "    def __init__(self, n_estimators=10, max_depth=7, max_features=6, random_state=17):\n",
    "        self.n_estimators = n_estimators\n",
    "        self.max_depth = max_depth\n",
    "        self.max_features = max_features\n",
    "        self.random_state = random_state\n",
    "        \n",
    "        self.trees = []\n",
    "        self.feat_ids_by_tree = []\n",
    "        self.ID = []\n",
    "        \n",
    "    def fit(self, X, y):\n",
    "        for i in range(self.n_estimators):            \n",
    "            np.random.seed(self.random_state + i)            \n",
    "            fibt_temp = np.random.choice(X.columns, self.max_features, replace=False) \n",
    "            IDs = np.random.choice(len(X), len(X), replace=True)\n",
    "            sam = X.iloc[IDs]\n",
    "            sample = sam[fibt_temp]\n",
    "            #sample = X.loc[IDs, fibt_temp]\n",
    "            y_sample = y.iloc[IDs]\n",
    "\n",
    "            tree = DecisionTreeClassifier(max_depth=self.max_depth,\\\n",
    "                                          max_features=self.max_features,\\\n",
    "                                          random_state=self.random_state) #,\\\n",
    "                                          #class_weight='balanced')\n",
    "            tree.fit(sample, y_sample)            \n",
    "            self.trees.append(tree)\n",
    "            self.feat_ids_by_tree.append(fibt_temp)\n",
    "            self.ID.append(IDs)\n",
    "        return self\n",
    "       \n",
    "    def predict_proba(self, X):\n",
    "        \n",
    "        predict = []       \n",
    "        for i in range(self.n_estimators):\n",
    "            predict.append(self.trees[i].predict_proba(X[self.feat_ids_by_tree[i]]))          \n",
    "        return np.mean(predict, axis=0)"
   ]
  },
  {
   "cell_type": "code",
   "execution_count": 5,
   "metadata": {
    "scrolled": false
   },
   "outputs": [
    {
     "data": {
      "text/plain": [
       "array([[0.94940458, 0.05059542],\n",
       "       [0.92451586, 0.07548414],\n",
       "       [0.8618126 , 0.1381874 ],\n",
       "       ...,\n",
       "       [0.80312241, 0.19687759],\n",
       "       [0.6866675 , 0.3133325 ],\n",
       "       [0.45023884, 0.54976116]])"
      ]
     },
     "execution_count": 5,
     "metadata": {},
     "output_type": "execute_result"
    }
   ],
   "source": [
    "# МОЙ СОБСТВЕННЫЙ КЛАСС\n",
    "rfccece = RandomForestClassifierCustom(n_estimators=10, max_depth=7, max_features=6, random_state=17)\n",
    "rfccece.fit(X, y)\n",
    "rfccece.predict_proba(X)"
   ]
  },
  {
   "cell_type": "code",
   "execution_count": 6,
   "metadata": {
    "scrolled": false
   },
   "outputs": [
    {
     "data": {
      "text/plain": [
       "0.832075411181175"
      ]
     },
     "execution_count": 6,
     "metadata": {},
     "output_type": "execute_result"
    }
   ],
   "source": [
    "skf2 = StratifiedKFold(n_splits=5, shuffle=True, random_state=5)\n",
    "cross_val_score(rfccece,X , y, scoring='roc_auc', cv=skf2).mean()"
   ]
  },
  {
   "cell_type": "code",
   "execution_count": 7,
   "metadata": {
    "scrolled": true
   },
   "outputs": [
    {
     "data": {
      "text/plain": [
       "array([0.77773373, 0.22226627])"
      ]
     },
     "execution_count": 7,
     "metadata": {},
     "output_type": "execute_result"
    }
   ],
   "source": [
    "rfccece.predict_proba(X).mean(axis=0)"
   ]
  },
  {
   "cell_type": "code",
   "execution_count": 8,
   "metadata": {},
   "outputs": [
    {
     "data": {
      "text/plain": [
       "array([[0.95078097, 0.04921903],\n",
       "       [0.93234672, 0.06765328],\n",
       "       [0.81204013, 0.18795987],\n",
       "       ...,\n",
       "       [0.87534349, 0.12465651],\n",
       "       [0.75403226, 0.24596774],\n",
       "       [0.53545232, 0.46454768]])"
      ]
     },
     "execution_count": 8,
     "metadata": {},
     "output_type": "execute_result"
    }
   ],
   "source": [
    "# ДЛЯ ДЕРЕВА РЕШЕНИЙ\n",
    "dtc = DecisionTreeClassifier(max_depth=7, max_features=6, random_state=17)\n",
    "dtc.fit(X, y)\n",
    "dtc.predict_proba(X)\n",
    "#skf = StratifiedKFold(n_splits=5, shuffle=True, random_state=5)\n",
    "#cross_val_score(dtc, X, y, scoring='roc_auc', cv=3).mean()"
   ]
  },
  {
   "cell_type": "code",
   "execution_count": 9,
   "metadata": {
    "scrolled": true
   },
   "outputs": [
    {
     "data": {
      "text/plain": [
       "array([0.77751148, 0.22248852])"
      ]
     },
     "execution_count": 9,
     "metadata": {},
     "output_type": "execute_result"
    }
   ],
   "source": [
    "dtc.predict_proba(X).mean(axis=0)"
   ]
  },
  {
   "cell_type": "code",
   "execution_count": 10,
   "metadata": {},
   "outputs": [
    {
     "data": {
      "text/plain": [
       "0.8199583779477086"
      ]
     },
     "execution_count": 10,
     "metadata": {},
     "output_type": "execute_result"
    }
   ],
   "source": [
    "skf2 = StratifiedKFold(n_splits=5, shuffle=True, random_state=5)\n",
    "cross_val_score(dtc, X, y, scoring='roc_auc', cv=skf2).mean()"
   ]
  },
  {
   "cell_type": "code",
   "execution_count": 11,
   "metadata": {},
   "outputs": [
    {
     "data": {
      "text/plain": [
       "array([[0.9550809 , 0.0449191 ],\n",
       "       [0.94848111, 0.05151889],\n",
       "       [0.86879372, 0.13120628],\n",
       "       ...,\n",
       "       [0.8211826 , 0.1788174 ],\n",
       "       [0.70466953, 0.29533047],\n",
       "       [0.44293808, 0.55706192]])"
      ]
     },
     "execution_count": 11,
     "metadata": {},
     "output_type": "execute_result"
    }
   ],
   "source": [
    "# ДЛЯ СЛУЧАЙНОГО ЛЕСА\n",
    "rf = RandomForestClassifier(n_estimators=10, max_depth=7, max_features=6, random_state=17)\n",
    "rf.fit(X, y)\n",
    "rf.predict_proba(X)\n",
    "#skf = StratifiedKFold(n_splits=5, shuffle=True, random_state=5)\n",
    "#cross_val_score(rf, X, y, scoring='roc_auc', cv=3).mean()"
   ]
  },
  {
   "cell_type": "code",
   "execution_count": 12,
   "metadata": {
    "scrolled": true
   },
   "outputs": [
    {
     "data": {
      "text/plain": [
       "array([0.77785283, 0.22214717])"
      ]
     },
     "execution_count": 12,
     "metadata": {},
     "output_type": "execute_result"
    }
   ],
   "source": [
    "rf.predict_proba(X).mean(axis=0)"
   ]
  },
  {
   "cell_type": "code",
   "execution_count": 13,
   "metadata": {
    "scrolled": true
   },
   "outputs": [
    {
     "data": {
      "text/plain": [
       "0.8313944291645278"
      ]
     },
     "execution_count": 13,
     "metadata": {},
     "output_type": "execute_result"
    }
   ],
   "source": [
    "skf3 = StratifiedKFold(n_splits=5, shuffle=True, random_state=5)\n",
    "cross_val_score(rf, X, y, scoring='roc_auc', cv=skf3).mean()"
   ]
  }
 ],
 "metadata": {
  "kernelspec": {
   "display_name": "Python 3",
   "language": "python",
   "name": "python3"
  },
  "language_info": {
   "codemirror_mode": {
    "name": "ipython",
    "version": 3
   },
   "file_extension": ".py",
   "mimetype": "text/x-python",
   "name": "python",
   "nbconvert_exporter": "python",
   "pygments_lexer": "ipython3",
   "version": "3.7.0"
  }
 },
 "nbformat": 4,
 "nbformat_minor": 2
}
