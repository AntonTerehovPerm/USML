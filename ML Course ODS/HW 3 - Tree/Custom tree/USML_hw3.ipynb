{
 "cells": [
  {
   "cell_type": "code",
   "execution_count": 330,
   "metadata": {},
   "outputs": [],
   "source": [
    "import numpy as np\n",
    "from matplotlib import pyplot as plt\n",
    "%matplotlib inline\n",
    "import abc\n",
    "from collections import namedtuple\n",
    "from sklearn.tree import DecisionTreeClassifier\n",
    "from sklearn.tree import DecisionTreeRegressor\n",
    "from sklearn.base import BaseEstimator\n",
    "from sklearn.datasets import make_classification, make_regression, load_digits, load_boston\n",
    "from sklearn.model_selection import train_test_split, GridSearchCV\n",
    "from sklearn.metrics import accuracy_score, mean_squared_error\n",
    "from sklearn.datasets import load_digits"
   ]
  },
  {
   "cell_type": "code",
   "execution_count": 347,
   "metadata": {},
   "outputs": [],
   "source": [
    "#скопировано с https://github.com/josdas/ML-Algorithms/tree/master/DecisionTree\n",
    "def entropy(freq: np.array):\n",
    "    p = freq / freq.sum()\n",
    "    return -np.sum(p * np.log2(p + 0.1))\n",
    "\n",
    "\n",
    "def gini(freq: np.array):\n",
    "    p = freq / freq.sum()\n",
    "    return 1 - np.sum(p * p)\n",
    "\n",
    "\n",
    "def variance(y: np.array):\n",
    "    return np.var(y)\n",
    "\n",
    "\n",
    "def mad_median(y: np.array):\n",
    "    return np.abs(y - np.median(y)).sum() / len(y)\n",
    "\n",
    "\n",
    "CRITERIAS = {\n",
    "    'gini': gini,\n",
    "    'entropy': entropy,\n",
    "    'variance': variance,\n",
    "    'mad_median': mad_median,\n",
    "}"
   ]
  },
  {
   "cell_type": "code",
   "execution_count": 349,
   "metadata": {},
   "outputs": [],
   "source": [
    "#скопировано с https://github.com/josdas/ML-Algorithms/tree/master/DecisionTree\n",
    "\n",
    "class DecisionTree(BaseEstimator):\n",
    "    __metaclass__ = abc.ABCMeta\n",
    "\n",
    "    BestSplitResult = namedtuple('result', 'feature_i threshold score')\n",
    "\n",
    "    class Vertex:\n",
    "        __slots__ = ['left', 'right', 'feature_i', 'threshold']\n",
    "\n",
    "        def __init__(self, left, right, feature_i, threshold):\n",
    "            self.left = left\n",
    "            self.right = right\n",
    "            self.feature_i = feature_i\n",
    "            self.threshold = threshold\n",
    "\n",
    "    def __init__(self, max_depth, min_samples_split,\n",
    "                 criterion, debug=False):\n",
    "        self.max_depth = max_depth\n",
    "        self.min_samples_split = min_samples_split\n",
    "        self.criterion = criterion\n",
    "        self.debug = debug\n",
    "\n",
    "    def _get_predicate(self, X: np.array, feature_i, threshold):\n",
    "        return X[:, feature_i] < threshold\n",
    "\n",
    "    def _select_best_split(self, X: np.array, y: np.array):\n",
    "        best_score = np.inf\n",
    "        best_i, best_threshold = None, None\n",
    "\n",
    "        for i in range(self._n_feature):\n",
    "            feature_list = list(set(sorted(x[i] for x in X)))\n",
    "\n",
    "            for j in range(len(feature_list) - 1):\n",
    "                s = (feature_list[j] + feature_list[j + 1]) / 2\n",
    "\n",
    "                predicate = self._get_predicate(X, i, s)\n",
    "                l_y, r_y = y[predicate], y[~predicate]\n",
    "\n",
    "                can_split = len(l_y) >= self.min_samples_split and \\\n",
    "                            len(r_y) >= self.min_samples_split\n",
    "                if can_split:\n",
    "                    score = self._fun_criterion(l_y) * len(l_y) + \\\n",
    "                            self._fun_criterion(r_y) * len(r_y)\n",
    "\n",
    "                    if score < best_score:\n",
    "                        best_i = i\n",
    "                        best_threshold = s\n",
    "                        best_score = score\n",
    "\n",
    "        return DecisionTree.BestSplitResult(feature_i=best_i,\n",
    "                                            threshold=best_threshold,\n",
    "                                            score=best_score)\n",
    "\n",
    "    def _build_tree(self, X: np.array, y: np.array, depth=0):\n",
    "        if depth >= self.max_depth:\n",
    "            if self.debug:\n",
    "                print('Created a leaf by max_depth')\n",
    "\n",
    "            return self._leaf_value(y)\n",
    "\n",
    "        best_i, best_threshold, best_score = self._select_best_split(X, y)\n",
    "\n",
    "        if best_i is None:\n",
    "            if self.debug:\n",
    "                print('Created a leaf by min_samples_split. Score', best_score)\n",
    "\n",
    "            return self._leaf_value(y)\n",
    "        else:\n",
    "            if self.debug:\n",
    "                print('Created a new vertex')\n",
    "\n",
    "            predicate = self._get_predicate(X, best_i, best_threshold)\n",
    "            (l_x, l_y), (r_x, r_y) = (X[predicate], y[predicate]), (X[~predicate], y[~predicate])\n",
    "\n",
    "            l_vertex = self._build_tree(l_x, l_y, depth + 1)\n",
    "            r_vertex = self._build_tree(r_x, r_y, depth + 1)\n",
    "\n",
    "            return DecisionTree.Vertex(l_vertex, r_vertex,\n",
    "                                       feature_i=best_i, threshold=best_threshold)\n",
    "\n",
    "    def _dfs_leaves(self, X: np.array, vertex):\n",
    "        if not isinstance(vertex, DecisionTree.Vertex):\n",
    "            return np.array([vertex] * X.shape[0])\n",
    "\n",
    "        predicate = self._get_predicate(X, vertex.feature_i, vertex.threshold)\n",
    "\n",
    "        l_leaves = self._dfs_leaves(X[predicate], vertex.left)\n",
    "        r_leaves = self._dfs_leaves(X[~predicate], vertex.right)\n",
    "\n",
    "        merge = np.empty(X.shape[0], dtype=object)\n",
    "        l_i, r_i = 0, 0\n",
    "\n",
    "        for i, isLeft in enumerate(predicate):\n",
    "            if isLeft:\n",
    "                merge[i] = l_leaves[l_i]\n",
    "                l_i += 1\n",
    "            else:\n",
    "                merge[i] = r_leaves[r_i]\n",
    "                r_i += 1\n",
    "\n",
    "        return merge\n",
    "\n",
    "    def _get_leaves(self, X):\n",
    "        _X = np.array(X)\n",
    "\n",
    "        assert (len(_X.shape) == 2)\n",
    "        assert (self._n_feature == _X.shape[1])\n",
    "\n",
    "        leaves = self._dfs_leaves(_X, self._root)\n",
    "        return leaves\n",
    "\n",
    "    @abc.abstractmethod\n",
    "    def _leaf_value(self, y: np.array):\n",
    "        return\n",
    "\n",
    "    @abc.abstractmethod\n",
    "    def fit(self, X, y):\n",
    "        return\n",
    "\n",
    "    @abc.abstractmethod\n",
    "    def predict(self, X):\n",
    "        return"
   ]
  },
  {
   "cell_type": "code",
   "execution_count": 354,
   "metadata": {},
   "outputs": [],
   "source": [
    "#скопировано с https://github.com/josdas/ML-Algorithms/tree/master/DecisionTree\n",
    "\n",
    "class DecisionTreeClassifier1(DecisionTree):\n",
    "    class Leaf:\n",
    "        __slots__ = ['mode', 'prob']\n",
    "\n",
    "        def __init__(self, freq: np.array):\n",
    "            self.prob = freq / freq.sum()\n",
    "            self.mode = np.argmax(self.prob)\n",
    "\n",
    "    def __init__(self, max_depth=np.inf, min_samples_split=2,\n",
    "                 criterion='gini', debug=False):\n",
    "        super().__init__(max_depth, min_samples_split, criterion, debug)\n",
    "\n",
    "    def _leaf_value(self, y: np.array):\n",
    "        freq = y.sum(0)\n",
    "        if self.debug:\n",
    "            print(freq)\n",
    "        return DecisionTreeClassifier1.Leaf(freq)\n",
    "\n",
    "    def _select_best_split(self, X: np.array, y: np.array):\n",
    "        best_score = np.inf\n",
    "        best_i, best_threshold = None, None\n",
    "\n",
    "        for i in range(self._n_feature):\n",
    "            Xy = namedtuple('xy', 'x_i y_class')\n",
    "\n",
    "            feature_list = [Xy(x_i=x[i], y_class=y_class)\n",
    "                            for x, y_class in zip(X, y)]\n",
    "            feature_list.sort(key=lambda x: x.x_i)\n",
    "\n",
    "            freq_left = np.zeros(self._n_class)\n",
    "            freq_right = y.sum(0)\n",
    "\n",
    "            for j in range(len(feature_list) - 1):\n",
    "                freq_left += feature_list[j].y_class\n",
    "                freq_right -= feature_list[j].y_class\n",
    "\n",
    "                if feature_list[j].x_i == feature_list[j + 1].x_i:\n",
    "                    continue\n",
    "\n",
    "                can_split = freq_left.sum() >= self.min_samples_split and \\\n",
    "                            freq_right.sum() >= self.min_samples_split\n",
    "\n",
    "                if can_split:\n",
    "                    score = self._fun_criterion(freq_left) * freq_left.sum() + \\\n",
    "                            self._fun_criterion(freq_right) * freq_right.sum()\n",
    "                    if score < best_score:\n",
    "                        best_i = i\n",
    "                        best_threshold = (feature_list[j].x_i + feature_list[j + 1].x_i) / 2\n",
    "                        best_score = score\n",
    "\n",
    "        return DecisionTree.BestSplitResult(feature_i=best_i,\n",
    "                                            threshold=best_threshold,\n",
    "                                            score=best_score)\n",
    "\n",
    "    def fit(self, X, y):\n",
    "        self._fun_criterion = CRITERIAS[self.criterion]\n",
    "\n",
    "        _X = np.array(X)\n",
    "        self._n_feature = _X.shape[1]\n",
    "\n",
    "        assert (len(_X.shape) == 2)\n",
    "        assert (_X.shape[0] == len(y))\n",
    "\n",
    "        self._code = {}\n",
    "        self._encode = []\n",
    "        cur_ind = 0\n",
    "\n",
    "        for val in y:\n",
    "            if val not in self._code:\n",
    "                self._code[val] = cur_ind\n",
    "                self._encode.append(val)\n",
    "                cur_ind += 1\n",
    "\n",
    "        self._n_class = len(self._code)\n",
    "\n",
    "        _y = np.zeros((len(y), self._n_class))\n",
    "        for i, val in enumerate(y):\n",
    "            _y[i][self._code[val]] = 1\n",
    "\n",
    "        self._root = self._build_tree(_X, _y)\n",
    "\n",
    "        return self\n",
    "\n",
    "    def predict(self, X):\n",
    "        leaves = self._get_leaves(X)\n",
    "        predictions = [leaf.mode for leaf in leaves]\n",
    "        return np.array([self._encode[prediction]\n",
    "                         for prediction in predictions])\n",
    "\n",
    "    def predict_proba(self, X):\n",
    "        leaves = self._get_leaves(X)\n",
    "        return np.array([leaf.prob for leaf in leaves])"
   ]
  },
  {
   "cell_type": "code",
   "execution_count": 351,
   "metadata": {},
   "outputs": [],
   "source": [
    "#скопировано с https://github.com/josdas/ML-Algorithms/tree/master/DecisionTree\n",
    "\n",
    "class DecisionTreeRegressor1(DecisionTree):\n",
    "    class LeafNode:\n",
    "        def __init__(self, y):\n",
    "            self.mean = y.mean()\n",
    "\n",
    "        def get_prediction(self):\n",
    "            return self.mean\n",
    "\n",
    "\n",
    "\n",
    "    def __init__(self, max_depth=np.inf, min_samples_split=2, criterion='variance', debug=False):\n",
    "        super().__init__(max_depth, min_samples_split, criterion, debug)\n",
    "\n",
    "\n",
    "\n",
    "    def _create_leaf_node(self, y):\n",
    "        return DecisionTreeRegressor.LeafNode(y)"
   ]
  },
  {
   "cell_type": "code",
   "execution_count": 335,
   "metadata": {
    "scrolled": false
   },
   "outputs": [
    {
     "data": {
      "text/plain": [
       "<Figure size 432x288 with 0 Axes>"
      ]
     },
     "metadata": {},
     "output_type": "display_data"
    },
    {
     "data": {
      "image/png": "[encoded data removed]",
      "text/plain": [
       "<Figure size 288x288 with 1 Axes>"
      ]
     },
     "metadata": {
      "needs_background": "light"
     },
     "output_type": "display_data"
    }
   ],
   "source": [
    "data = load_digits();\n",
    "X, y = data.data, data.target;\n",
    "X_train, X_holdout, y_train, y_holdout = train_test_split(data.data, data.target, test_size=0.2,random_state=17);\n",
    "plt.rcParams['figure.figsize'] = (6,4)\n",
    "plt.gray();\n",
    "plt.matshow(data.images[0]);\n",
    "plt.show();"
   ]
  },
  {
   "cell_type": "code",
   "execution_count": 307,
   "metadata": {},
   "outputs": [],
   "source": [
    "RANDOM_STATE = 17"
   ]
  },
  {
   "cell_type": "code",
   "execution_count": 338,
   "metadata": {},
   "outputs": [
    {
     "data": {
      "text/plain": [
       "0.7277777777777777"
      ]
     },
     "execution_count": 338,
     "metadata": {},
     "output_type": "execute_result"
    }
   ],
   "source": [
    "tree_entropy = DecisionTreeClassifier(criterion ='entropy',max_depth=5,min_samples_split = 2,random_state=17)\n",
    "tree_entropy.fit(X_train, y_train)\n",
    "tree_pred_entropy = tree_entropy.predict(X_holdout)\n",
    "accuracy_score(y_holdout,tree_pred_entropy)"
   ]
  },
  {
   "cell_type": "code",
   "execution_count": 339,
   "metadata": {},
   "outputs": [
    {
     "data": {
      "text/plain": [
       "0.675"
      ]
     },
     "execution_count": 339,
     "metadata": {},
     "output_type": "execute_result"
    }
   ],
   "source": [
    "tree_gini = DecisionTreeClassifier(criterion ='gini',max_depth=5,random_state=17)\n",
    "tree_gini.fit(X_train, y_train)\n",
    "tree_pred_gini = tree_gini.predict(X_holdout)\n",
    "accuracy_score(y_holdout,tree_pred_gini)"
   ]
  },
  {
   "cell_type": "code",
   "execution_count": 340,
   "metadata": {},
   "outputs": [],
   "source": [
    "tree_params = {'max_depth': range(3,11),\n",
    "'criterion': ['gini','entropy']}"
   ]
  },
  {
   "cell_type": "code",
   "execution_count": 341,
   "metadata": {},
   "outputs": [],
   "source": [
    "tree_grid = GridSearchCV(tree, tree_params,scoring='accuracy',\n",
    "cv=5, n_jobs=-1,\n",
    "verbose=True)"
   ]
  },
  {
   "cell_type": "code",
   "execution_count": 342,
   "metadata": {},
   "outputs": [
    {
     "name": "stdout",
     "output_type": "stream",
     "text": [
      "Fitting 5 folds for each of 16 candidates, totalling 80 fits\n"
     ]
    },
    {
     "name": "stderr",
     "output_type": "stream",
     "text": [
      "[Parallel(n_jobs=-1)]: Using backend LokyBackend with 4 concurrent workers.\n",
      "[Parallel(n_jobs=-1)]: Done  80 out of  80 | elapsed:    1.5s finished\n",
      "c:\\playground\\env\\lib\\site-packages\\sklearn\\model_selection\\_search.py:841: DeprecationWarning: The default of the `iid` parameter will change from True to False in version 0.22 and will be removed in 0.24. This will change numeric results when test-set sizes are unequal.\n",
      "  DeprecationWarning)\n"
     ]
    }
   ],
   "source": [
    "tree_grid.fit(X_train, y_train);"
   ]
  },
  {
   "cell_type": "code",
   "execution_count": 343,
   "metadata": {},
   "outputs": [
    {
     "data": {
      "text/plain": [
       "{'criterion': 'entropy', 'max_depth': 9}"
      ]
     },
     "execution_count": 343,
     "metadata": {},
     "output_type": "execute_result"
    }
   ],
   "source": [
    "tree_grid.best_params_"
   ]
  },
  {
   "cell_type": "code",
   "execution_count": 344,
   "metadata": {},
   "outputs": [
    {
     "data": {
      "text/plain": [
       "0.8684759916492694"
      ]
     },
     "execution_count": 344,
     "metadata": {},
     "output_type": "execute_result"
    }
   ],
   "source": [
    "tree_grid.best_score_"
   ]
  },
  {
   "cell_type": "code",
   "execution_count": 345,
   "metadata": {},
   "outputs": [
    {
     "data": {
      "text/plain": [
       "0.8861111111111111"
      ]
     },
     "execution_count": 345,
     "metadata": {},
     "output_type": "execute_result"
    }
   ],
   "source": [
    "accuracy_score(y_holdout, tree_grid.predict(X_holdout))"
   ]
  },
  {
   "cell_type": "code",
   "execution_count": 353,
   "metadata": {},
   "outputs": [
    {
     "name": "stdout",
     "output_type": "stream",
     "text": [
      "[0.46944444444444444, 0.5666666666666667, 0.675, 0.7861111111111111, 0.8166666666666667, 0.8277777777777777, 0.8361111111111111, 0.8305555555555556, 0.825]\n",
      "[0.5222222222222223, 0.6361111111111111, 0.7277777777777777, 0.8222222222222222, 0.8805555555555555, 0.8861111111111111, 0.8861111111111111, 0.8861111111111111, 0.8833333333333333]\n"
     ]
    },
    {
     "data": {
      "image/png": "[encoded data removed]",
      "text/plain": [
       "<Figure size 720x576 with 1 Axes>"
      ]
     },
     "metadata": {
      "needs_background": "light"
     },
     "output_type": "display_data"
    }
   ],
   "source": [
    "accuracy_gini, accuracy_ent = [], []\n",
    "M_d = [3,4,5,6,7,8,9,10,11]\n",
    "\n",
    "for n in M_d:\n",
    "\n",
    "    DTC_gini = DecisionTreeClassifier(criterion = 'gini',max_depth=n,random_state=17)\n",
    "    DTC_gini.fit(X_train, y_train)\n",
    "    DTC_pred_gini = DTC_gini.predict(X_holdout)\n",
    "    accuracy_gini.append(accuracy_score(y_holdout,DTC_pred_gini).mean())\n",
    "    \n",
    "    DTC_ent = DecisionTreeClassifier(criterion = 'entropy',max_depth=n,random_state=17)\n",
    "    DTC_ent.fit(X_train, y_train)\n",
    "    DTC_pred_ent = DTC_ent.predict(X_holdout)\n",
    "    accuracy_ent.append(accuracy_score(y_holdout,DTC_pred_ent).mean())\n",
    "print(accuracy_gini)\n",
    "print(accuracy_ent)\n",
    "plt.rcParams['figure.figsize'] = (10,8)\n",
    "plt.plot(M_d, accuracy_gini, label='Gini');\n",
    "plt.plot(M_d, accuracy_ent, label='Entropy')\n",
    "plt.title('Зависимость критериев от accuracy и max depth')\n",
    "plt.xlabel('max_depth')\n",
    "plt.ylabel('accurancy')\n",
    "plt.legend();"
   ]
  },
  {
   "cell_type": "markdown",
   "metadata": {},
   "source": [
    "### Ответы:\n",
    "#### 1. Оптимальное значение ACCURACY для каждого критерия достигается на отрезке [4, 9].                        \n",
    "#### 2. На отрезке [3, 10] построенные графики не пересекаются.                                          \n",
    "#### 5. Хотя бы для одного из критериев значение accuracy строго возрастает с ростом значения max_depth на интервале [3, 10]."
   ]
  },
  {
   "cell_type": "markdown",
   "metadata": {},
   "source": [
    "### Чему равны найденные оптимальные значения параметров max_depth и criterion?\n",
    "#### 5.max_depth = 9, criterion = 'entropy', accuracy_score = 0.886\n",
    "#### 6.max_depth = 9, criterion = 'gini', accuracy_score = 0.836\n"
   ]
  },
  {
   "cell_type": "markdown",
   "metadata": {},
   "source": [
    "# ГРАФИК НИЖЕ ПОСТРОЕН ПО СКОПИРОВАННОМУ КЛАССУ DecisionTreeClassifier1"
   ]
  },
  {
   "cell_type": "code",
   "execution_count": 355,
   "metadata": {
    "scrolled": false
   },
   "outputs": [
    {
     "name": "stdout",
     "output_type": "stream",
     "text": [
      "[0.46944444444444444, 0.5666666666666667, 0.6722222222222223, 0.7888888888888889, 0.8027777777777778, 0.825, 0.8305555555555556, 0.8333333333333334, 0.8333333333333334]\n",
      "[0.525, 0.6472222222222223, 0.75, 0.8527777777777777, 0.8916666666666667, 0.8916666666666667, 0.8944444444444445, 0.9, 0.9]\n"
     ]
    },
    {
     "data": {
      "image/png": "[encoded data removed]",
      "text/plain": [
       "<Figure size 720x576 with 1 Axes>"
      ]
     },
     "metadata": {
      "needs_background": "light"
     },
     "output_type": "display_data"
    }
   ],
   "source": [
    "accuracy_gini, accuracy_ent = [], []\n",
    "M_d = [3,4,5,6,7,8,9,10,11]\n",
    "\n",
    "for n in M_d:\n",
    "\n",
    "    DTC_gini = DecisionTreeClassifier1(criterion = 'gini',max_depth=n)\n",
    "    DTC_gini.fit(X_train, y_train)\n",
    "    DTC_pred_gini = DTC_gini.predict(X_holdout)\n",
    "    accuracy_gini.append(accuracy_score(y_holdout,DTC_pred_gini).mean())\n",
    "    \n",
    "    DTC_ent = DecisionTreeClassifier1(criterion = 'entropy',max_depth=n)\n",
    "    DTC_ent.fit(X_train, y_train)\n",
    "    DTC_pred_ent = DTC_ent.predict(X_holdout)\n",
    "    accuracy_ent.append(accuracy_score(y_holdout,DTC_pred_ent).mean())\n",
    "print(accuracy_gini)\n",
    "print(accuracy_ent)\n",
    "plt.rcParams['figure.figsize'] = (10,8)\n",
    "plt.plot(M_d, accuracy_gini, label='Gini');\n",
    "plt.plot(M_d, accuracy_ent, label='Entropy')\n",
    "plt.title('Зависимость критериев от accuracy и max depth')\n",
    "plt.xlabel('max_depth')\n",
    "plt.ylabel('accurancy')\n",
    "plt.legend();"
   ]
  },
  {
   "cell_type": "markdown",
   "metadata": {},
   "source": [
    "# Регрессия"
   ]
  },
  {
   "cell_type": "code",
   "execution_count": 327,
   "metadata": {},
   "outputs": [],
   "source": [
    "boston = load_boston();\n",
    "X, y = boston.data, boston.target;\n",
    "X_train, X_holdout, y_train, y_holdout = train_test_split(boston.data, boston.target, test_size=0.2,random_state=17);"
   ]
  },
  {
   "cell_type": "code",
   "execution_count": 329,
   "metadata": {},
   "outputs": [
    {
     "ename": "ValueError",
     "evalue": "Expected array-like (array or non-string sequence), got None",
     "output_type": "error",
     "traceback": [
      "\u001b[1;31m---------------------------------------------------------------------------\u001b[0m",
      "\u001b[1;31mValueError\u001b[0m                                Traceback (most recent call last)",
      "\u001b[1;32m<ipython-input-329-8960bcad2a8c>\u001b[0m in \u001b[0;36m<module>\u001b[1;34m()\u001b[0m\n\u001b[0;32m      2\u001b[0m \u001b[0mtree_var\u001b[0m\u001b[1;33m.\u001b[0m\u001b[0mfit\u001b[0m\u001b[1;33m(\u001b[0m\u001b[0mX_train\u001b[0m\u001b[1;33m,\u001b[0m \u001b[0my_train\u001b[0m\u001b[1;33m)\u001b[0m\u001b[1;33m\u001b[0m\u001b[0m\n\u001b[0;32m      3\u001b[0m \u001b[0mtree_var_pred\u001b[0m \u001b[1;33m=\u001b[0m \u001b[0mtree_var\u001b[0m\u001b[1;33m.\u001b[0m\u001b[0mpredict\u001b[0m\u001b[1;33m(\u001b[0m\u001b[0mX_holdout\u001b[0m\u001b[1;33m)\u001b[0m\u001b[1;33m\u001b[0m\u001b[0m\n\u001b[1;32m----> 4\u001b[1;33m \u001b[0maccuracy_score\u001b[0m\u001b[1;33m(\u001b[0m\u001b[0my_holdout\u001b[0m\u001b[1;33m,\u001b[0m \u001b[0mtree_var_pred\u001b[0m\u001b[1;33m)\u001b[0m\u001b[1;33m\u001b[0m\u001b[0m\n\u001b[0m",
      "\u001b[1;32mc:\\playground\\env\\lib\\site-packages\\sklearn\\metrics\\classification.py\u001b[0m in \u001b[0;36maccuracy_score\u001b[1;34m(y_true, y_pred, normalize, sample_weight)\u001b[0m\n\u001b[0;32m    174\u001b[0m \u001b[1;33m\u001b[0m\u001b[0m\n\u001b[0;32m    175\u001b[0m     \u001b[1;31m# Compute accuracy for each possible representation\u001b[0m\u001b[1;33m\u001b[0m\u001b[1;33m\u001b[0m\u001b[0m\n\u001b[1;32m--> 176\u001b[1;33m     \u001b[0my_type\u001b[0m\u001b[1;33m,\u001b[0m \u001b[0my_true\u001b[0m\u001b[1;33m,\u001b[0m \u001b[0my_pred\u001b[0m \u001b[1;33m=\u001b[0m \u001b[0m_check_targets\u001b[0m\u001b[1;33m(\u001b[0m\u001b[0my_true\u001b[0m\u001b[1;33m,\u001b[0m \u001b[0my_pred\u001b[0m\u001b[1;33m)\u001b[0m\u001b[1;33m\u001b[0m\u001b[0m\n\u001b[0m\u001b[0;32m    177\u001b[0m     \u001b[0mcheck_consistent_length\u001b[0m\u001b[1;33m(\u001b[0m\u001b[0my_true\u001b[0m\u001b[1;33m,\u001b[0m \u001b[0my_pred\u001b[0m\u001b[1;33m,\u001b[0m \u001b[0msample_weight\u001b[0m\u001b[1;33m)\u001b[0m\u001b[1;33m\u001b[0m\u001b[0m\n\u001b[0;32m    178\u001b[0m     \u001b[1;32mif\u001b[0m \u001b[0my_type\u001b[0m\u001b[1;33m.\u001b[0m\u001b[0mstartswith\u001b[0m\u001b[1;33m(\u001b[0m\u001b[1;34m'multilabel'\u001b[0m\u001b[1;33m)\u001b[0m\u001b[1;33m:\u001b[0m\u001b[1;33m\u001b[0m\u001b[0m\n",
      "\u001b[1;32mc:\\playground\\env\\lib\\site-packages\\sklearn\\metrics\\classification.py\u001b[0m in \u001b[0;36m_check_targets\u001b[1;34m(y_true, y_pred)\u001b[0m\n\u001b[0;32m     71\u001b[0m     \u001b[0mcheck_consistent_length\u001b[0m\u001b[1;33m(\u001b[0m\u001b[0my_true\u001b[0m\u001b[1;33m,\u001b[0m \u001b[0my_pred\u001b[0m\u001b[1;33m)\u001b[0m\u001b[1;33m\u001b[0m\u001b[0m\n\u001b[0;32m     72\u001b[0m     \u001b[0mtype_true\u001b[0m \u001b[1;33m=\u001b[0m \u001b[0mtype_of_target\u001b[0m\u001b[1;33m(\u001b[0m\u001b[0my_true\u001b[0m\u001b[1;33m)\u001b[0m\u001b[1;33m\u001b[0m\u001b[0m\n\u001b[1;32m---> 73\u001b[1;33m     \u001b[0mtype_pred\u001b[0m \u001b[1;33m=\u001b[0m \u001b[0mtype_of_target\u001b[0m\u001b[1;33m(\u001b[0m\u001b[0my_pred\u001b[0m\u001b[1;33m)\u001b[0m\u001b[1;33m\u001b[0m\u001b[0m\n\u001b[0m\u001b[0;32m     74\u001b[0m \u001b[1;33m\u001b[0m\u001b[0m\n\u001b[0;32m     75\u001b[0m     \u001b[0my_type\u001b[0m \u001b[1;33m=\u001b[0m \u001b[0mset\u001b[0m\u001b[1;33m(\u001b[0m\u001b[1;33m[\u001b[0m\u001b[0mtype_true\u001b[0m\u001b[1;33m,\u001b[0m \u001b[0mtype_pred\u001b[0m\u001b[1;33m]\u001b[0m\u001b[1;33m)\u001b[0m\u001b[1;33m\u001b[0m\u001b[0m\n",
      "\u001b[1;32mc:\\playground\\env\\lib\\site-packages\\sklearn\\utils\\multiclass.py\u001b[0m in \u001b[0;36mtype_of_target\u001b[1;34m(y)\u001b[0m\n\u001b[0;32m    241\u001b[0m     \u001b[1;32mif\u001b[0m \u001b[1;32mnot\u001b[0m \u001b[0mvalid\u001b[0m\u001b[1;33m:\u001b[0m\u001b[1;33m\u001b[0m\u001b[0m\n\u001b[0;32m    242\u001b[0m         raise ValueError('Expected array-like (array or non-string sequence), '\n\u001b[1;32m--> 243\u001b[1;33m                          'got %r' % y)\n\u001b[0m\u001b[0;32m    244\u001b[0m \u001b[1;33m\u001b[0m\u001b[0m\n\u001b[0;32m    245\u001b[0m     \u001b[0msparseseries\u001b[0m \u001b[1;33m=\u001b[0m \u001b[1;33m(\u001b[0m\u001b[0my\u001b[0m\u001b[1;33m.\u001b[0m\u001b[0m__class__\u001b[0m\u001b[1;33m.\u001b[0m\u001b[0m__name__\u001b[0m \u001b[1;33m==\u001b[0m \u001b[1;34m'SparseSeries'\u001b[0m\u001b[1;33m)\u001b[0m\u001b[1;33m\u001b[0m\u001b[0m\n",
      "\u001b[1;31mValueError\u001b[0m: Expected array-like (array or non-string sequence), got None"
     ]
    }
   ],
   "source": [
    "tree_var = DecisionTreeRegressor(criterion='variance',max_depth=5)\n",
    "tree_var.fit(X_train, y_train)\n",
    "tree_var_pred = tree_var.predict(X_holdout)\n",
    "accuracy_score(y_holdout, tree_var_pred)"
   ]
  }
 ],
 "metadata": {
  "kernelspec": {
   "display_name": "Python 3",
   "language": "python",
   "name": "python3"
  },
  "language_info": {
   "codemirror_mode": {
    "name": "ipython",
    "version": 3
   },
   "file_extension": ".py",
   "mimetype": "text/x-python",
   "name": "python",
   "nbconvert_exporter": "python",
   "pygments_lexer": "ipython3",
   "version": "3.6.5"
  }
 },
 "nbformat": 4,
 "nbformat_minor": 2
}
