{
 "cells": [
  {
   "cell_type": "markdown",
   "metadata": {},
   "source": [
    "# Back_End"
   ]
  },
  {
   "cell_type": "markdown",
   "metadata": {},
   "source": [
    "## Homework_2"
   ]
  },
  {
   "cell_type": "markdown",
   "metadata": {},
   "source": [
    "Cпроектируйте объектную модель соревнования, вы должны учитывать разные спецификации автомобилей, погодные условия, и то что в один момент времени может проходить только одно соревнование, как итог, запустите гонку с разными автомобилями и продемонстрируйте победителей)\n",
    "\n",
    "Требования к решению:\n",
    " 1. Описать 3 класса:\n",
    "  - Автомобиль\n",
    "  - Погода\n",
    "  - Соревнование\n",
    " 2. Выполнить требования к классу Автомобиль:\n",
    "  - Зафиксировать спецификации автомобилей как атрибут класса\n",
    " 3. Выполнить требования к классу Погода:\n",
    "  - Реализовать доступ к функции получения скорости ветра как к переменной экземпляра класса\n",
    " 4. Выполнить требования к классу Соревнование:\n",
    "  - в качестве входных аргументов принимает 1 параметр — длина дистанции\n",
    "  - не позволять создание более 1 экземпляра класса (обратите внимание на метод класса new)"
   ]
  },
  {
   "cell_type": "code",
   "execution_count": 14,
   "metadata": {},
   "outputs": [
    {
     "name": "stdout",
     "output_type": "stream",
     "text": [
      "Car <ferrary> result: 12.640225\n",
      "Car <bugatti> result: 12.868212\n",
      "Car <toyota> result: 21.588352\n",
      "Car <lada> result: 25.819430\n",
      "Car <sx4> result: 22.798596\n"
     ]
    }
   ],
   "source": [
    "from random import randint\n",
    "\n",
    "class Car():\n",
    "    \n",
    "   CAR_SPECS = {\n",
    "        'ferrary': {\"max_speed\": 340, \"drag_coef\": 0.324, \"time_to_max\": 26},\n",
    "        'bugatti': {\"max_speed\": 407, \"drag_coef\": 0.39, \"time_to_max\": 32},\n",
    "        'toyota': {\"max_speed\": 180, \"drag_coef\": 0.25, \"time_to_max\": 40},\n",
    "        'lada': {\"max_speed\": 180, \"drag_coef\": 0.32, \"time_to_max\": 56},\n",
    "        'sx4': {\"max_speed\": 180, \"drag_coef\": 0.33, \"time_to_max\": 44},}\n",
    "\n",
    "\n",
    "class Weather():\n",
    "    def __init__(self):\n",
    "        self.wind_speed = 20\n",
    "        \n",
    "    @property\n",
    "    def get_wind_speed(self):\n",
    "        return randint(0, self.wind_speed)\n",
    "\n",
    "class Competitions(Car):\n",
    "    instanse = None\n",
    "    \n",
    "    def __new__(cls,distance):\n",
    "        if cls.instanse is None:\n",
    "            cls.instanse = super().__new__(cls)\n",
    "        else: print('Уже создано!!!')\n",
    "        return cls.instanse\n",
    "    \n",
    "    def __init__(self,distance):\n",
    "        self.distance = distance\n",
    "        \n",
    "    def start(self,competitors):\n",
    "        weather = Weather()\n",
    "        \n",
    "        for competitor_name in competitors:\n",
    "            competitor_time = 0\n",
    "            competitor_speed = 0\n",
    "            car = self.CAR_SPECS[competitor_name]\n",
    "\n",
    "            for self.distance in range(self.distance):\n",
    "                _wind_speed = weather.get_wind_speed\n",
    "\n",
    "                if competitor_time == 0:\n",
    "                    _speed = 1\n",
    "                else:\n",
    "                    _speed = (competitor_time / car[\"time_to_max\"]) * car['max_speed']\n",
    "                    if _speed > _wind_speed:\n",
    "                        _speed -= (car[\"drag_coef\"] * _wind_speed)\n",
    "\n",
    "                competitor_time += float(1) / _speed\n",
    "\n",
    "            print(\"Car <%s> result: %f\" % (competitor_name, competitor_time))\n",
    "        \n",
    "competitors = ('ferrary', 'bugatti', 'toyota', 'lada', 'sx4')\n",
    "w_t = Competitions(1000)\n",
    "w_t.start(competitors)"
   ]
  },
  {
   "cell_type": "code",
   "execution_count": null,
   "metadata": {},
   "outputs": [],
   "source": []
  }
 ],
 "metadata": {
  "kernelspec": {
   "display_name": "Python 3",
   "language": "python",
   "name": "python3"
  },
  "language_info": {
   "codemirror_mode": {
    "name": "ipython",
    "version": 3
   },
   "file_extension": ".py",
   "mimetype": "text/x-python",
   "name": "python",
   "nbconvert_exporter": "python",
   "pygments_lexer": "ipython3",
   "version": "3.6.5"
  }
 },
 "nbformat": 4,
 "nbformat_minor": 2
}
