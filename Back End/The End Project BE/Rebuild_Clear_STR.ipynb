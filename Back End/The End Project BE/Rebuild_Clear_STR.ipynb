{
 "cells": [
  {
   "cell_type": "code",
   "execution_count": null,
   "metadata": {},
   "outputs": [],
   "source": [
    "for x in stroka:\n",
    "    a = re.Reg_Exp_one(x,rule = 'def/*[s]/*[e](/*[e,d,c,x])/?[:]')\n",
    "    print(a)\n",
    "    #проверить, почему не проходит rule = 'def/*[e,d,c,x,s]/?[:]' в stroka"
   ]
  },
  {
   "cell_type": "code",
   "execution_count": null,
   "metadata": {},
   "outputs": [],
   "source": [
    "stroka = ['def pashtet(a): ', 'def pashtet(a/n): ', 'def pashtet ( a ): ', 'def pashtet(a):a=8','d pashtet(a):a=8', \"def pashtet({'x':1}): \"]"
   ]
  },
  {
   "cell_type": "code",
   "execution_count": 1,
   "metadata": {},
   "outputs": [],
   "source": [
    "import Pars\n",
    "import Reg_Exp as re\n",
    "import tqdm"
   ]
  },
  {
   "cell_type": "code",
   "execution_count": 2,
   "metadata": {},
   "outputs": [],
   "source": [
    "def read_code(file_name):\n",
    "    '''Читаем code и делаем список <lvl><code><language>'''\n",
    "    f = open(file_name, 'r')\n",
    "    l = [line.rstrip() for line in f]\n",
    "    #print(l)\n",
    "    f.close()\n",
    "    return l"
   ]
  },
  {
   "cell_type": "code",
   "execution_count": 3,
   "metadata": {},
   "outputs": [],
   "source": [
    "def new_lvl(stroka,start_lvl,lvl_massiv):\n",
    "    new_array_of_code = []\n",
    "    tab_probel = 4\n",
    "    if stroka != '':\n",
    "            stroka = str.encode(stroka)\n",
    "            #создание уровней\n",
    "            probel = 0 \n",
    "            if stroka[0] == 32:\n",
    "                    i = 0\n",
    "                    while stroka[i] == 32:\n",
    "                        i+=1\n",
    "                    probel = i\n",
    "\n",
    "            if stroka[0] == 9:\n",
    "                    i=0\n",
    "                    while stroka[i] == 9:\n",
    "                        i+=1\n",
    "                    probel = i*tab_probel \n",
    "\n",
    "            if lvl_massiv.get(probel) != None:\n",
    "                if probel == 0:\n",
    "                    lvl_massiv = {0:0}\n",
    "                    start_lvl = 0\n",
    "                new_array_of_code.append(start_lvl)\n",
    "            else:\n",
    "                start_lvl+=1\n",
    "                lvl_massiv[probel] = start_lvl\n",
    "                new_array_of_code.append(start_lvl)\n",
    "                \n",
    "    return new_array_of_code,start_lvl,lvl_massiv"
   ]
  },
  {
   "cell_type": "code",
   "execution_count": 4,
   "metadata": {},
   "outputs": [],
   "source": [
    "def preobraz(mass):\n",
    "    arr =[]\n",
    "    for x in range(len(mass[0])):\n",
    "        arr.append([mass[0][x],mass[1][x],mass[2][x],mass[3][x]])\n",
    "    #print('arr',arr)\n",
    "    return arr"
   ]
  },
  {
   "cell_type": "code",
   "execution_count": 5,
   "metadata": {},
   "outputs": [],
   "source": [
    "def beautiful_code(array_of_code):\n",
    "    '''Делает красивый синтаксис <lvl><code><language>'''\n",
    "    group_rule_language = {'Delphi':[],'Java':[],'C++':[],'Python':['def/*[s]/*[e](/*[e,d,c,x])/?[:]','print(/*[e,d,c,x,s]/?[)]']}\n",
    "    doing_code_language_name = {'Delphi':[],'Java':[],'C++':[],'Python':{'def/*[s]/*[e](/*[e,d,c,x])/?[:]':'функция','print(/*[e,d,c,x,s]/?[)]':'вывод'}}\n",
    "    code_all = {}\n",
    "    claster_of_code = []\n",
    "    massiv_claster = [[],[],[],[]]\n",
    "    start_lvl = 0\n",
    "    lvl_massiv = {0:0}\n",
    "    f = False\n",
    "    for x in tqdm.tqdm_notebook(array_of_code):\n",
    "        massiv_claster[1].append(x)#.strip())\n",
    "        \n",
    "        new_str_language = {}\n",
    "        code_name = []\n",
    "        for y in group_rule_language:\n",
    "            sum_m = 0\n",
    "            otv = re.Reg_Exp_more_rule(x,group_rule_language[y])\n",
    "            #print(otv)\n",
    "            for i,z in enumerate(otv):\n",
    "                if z != []:\n",
    "                    sum_m += len(z)\n",
    "                    code_name.append(doing_code_language_name[y][group_rule_language[y][i]])\n",
    "            if sum_m != 0:\n",
    "                new_str_language[y] = sum_m\n",
    "                code_all[y] = sum_m\n",
    "                #new_str_language['all'] += sum_m\n",
    "        massiv_claster[2].append(new_str_language)\n",
    "        massiv_claster[3].append(code_name)\n",
    "       \n",
    "        #проверка сколько языков используется в коде\n",
    "        new_array_of_code,start_lvl,lvl_massiv = new_lvl(x,start_lvl,lvl_massiv)\n",
    "        massiv_claster[0].append(start_lvl)\n",
    "        i=len(massiv_claster[3])-1\n",
    "        #print('-'*100)\n",
    "        #print('massiv_claster',massiv_claster)\n",
    "        #print('f',f)\n",
    "        #print('start_lvl',start_lvl)\n",
    "        if (start_lvl == 0):#and((massiv_claster[3][i] == 'функция')or(massiv_claster[3][i] == 'класс')or(massiv_claster[3][i] == 'импорт')):\n",
    "                perh = [[massiv_claster[0][i]],[massiv_claster[1][i]],[massiv_claster[2][i]],[massiv_claster[3][i]]]\n",
    "                #print('perh',perh)\n",
    "                del massiv_claster[0][i],massiv_claster[1][i],massiv_claster[2][i],massiv_claster[3][i]\n",
    "                if massiv_claster != [[],[],[],[]]:\n",
    "                    claster_of_code.append(preobraz(massiv_claster))\n",
    "                    save_to_file(preobraz(massiv_claster))\n",
    "                #print('claster_of_code',claster_of_code)\n",
    "                #print(massiv_claster)\n",
    "                massiv_claster = perh\n",
    "    if massiv_claster != []:\n",
    "        claster_of_code.append(preobraz(massiv_claster))\n",
    "        save_to_file(preobraz(massiv_claster))\n",
    "    return claster_of_code"
   ]
  },
  {
   "cell_type": "code",
   "execution_count": 6,
   "metadata": {},
   "outputs": [],
   "source": [
    "def save_to_file(mass):\n",
    "    code = 'code//'\n",
    "    #print(str(mass[0][1]))\n",
    "    str_name = Pars.clear_word_classter(str(mass[0][1]))\n",
    "    #print(str_name)\n",
    "    str_code = code+str_name+'.csv'\n",
    "    f = open(code+str_name+'.csv','w')\n",
    "    for x in mass:\n",
    "        #print(x)\n",
    "        f.write(str(x[0])+','+str(x[1])+','+str(x[2])+','+str(x[3]))\n",
    "    f.close()\n",
    "    print('save_close '+str_code)"
   ]
  },
  {
   "cell_type": "code",
   "execution_count": 7,
   "metadata": {},
   "outputs": [],
   "source": [
    "def copy_classter():\n",
    "    pass"
   ]
  },
  {
   "cell_type": "code",
   "execution_count": 8,
   "metadata": {},
   "outputs": [],
   "source": [
    "def rebuild_code():\n",
    "    pass"
   ]
  },
  {
   "cell_type": "code",
   "execution_count": null,
   "metadata": {
    "scrolled": false
   },
   "outputs": [
    {
     "name": "stdout",
     "output_type": "stream",
     "text": [
      "beautiful_code\n"
     ]
    },
    {
     "data": {
      "application/vnd.jupyter.widget-view+json": {
       "model_id": "a676d35bb4654fdc9676761afc7c6e27",
       "version_major": 2,
       "version_minor": 0
      },
      "text/plain": [
       "HBox(children=(IntProgress(value=0, max=630), HTML(value='')))"
      ]
     },
     "metadata": {},
     "output_type": "display_data"
    },
    {
     "name": "stdout",
     "output_type": "stream",
     "text": [
      "save_close code//usrbinenv python.csv\n",
      "save_close code//  coding utf8 .csv\n",
      "save_close code//.csv\n",
      "save_close code//import pika.csv\n",
      "save_close code//import os.csv\n",
      "save_close code//import sys.csv\n",
      "save_close code//import json.csv\n",
      "save_close code//import syslog.csv\n",
      "save_close code//import time.csv\n",
      "save_close code//import re.csv\n",
      "save_close code//import requests.csv\n"
     ]
    }
   ],
   "source": [
    "#file_name = 'test.txt'\n",
    "file_name = 'ugly-code-example.txt'\n",
    "array_of_code = read_code(file_name)\n",
    "#beautiful_code(array_of_code)\n",
    "print('beautiful_code')\n",
    "a = beautiful_code(array_of_code)\n",
    "print('-'*100)\n",
    "#print(a)\n",
    "#print('-'*100)\n",
    "#for i,x in enumerate(a):\n",
    "   # save_to_file(x)\n",
    "#print('-'*100)"
   ]
  },
  {
   "cell_type": "code",
   "execution_count": null,
   "metadata": {},
   "outputs": [],
   "source": []
  },
  {
   "cell_type": "code",
   "execution_count": null,
   "metadata": {},
   "outputs": [],
   "source": []
  },
  {
   "cell_type": "code",
   "execution_count": null,
   "metadata": {},
   "outputs": [],
   "source": [
    "айсберг"
   ]
  },
  {
   "cell_type": "code",
   "execution_count": null,
   "metadata": {},
   "outputs": [],
   "source": [
    "i = 0\n",
    "try:\n",
    "    for x in range(len(a[1])):\n",
    "        print(i,':',a[0][x],a[1][x],a[2][x],a[3][x])\n",
    "        i+=1\n",
    "except IndexError :\n",
    "    print('IndexError',len(a[0]),len(a[1]),len(a[2]),len(a[3]))"
   ]
  },
  {
   "cell_type": "code",
   "execution_count": null,
   "metadata": {},
   "outputs": [],
   "source": [
    "re.Reg_Exp_one(stroka_db_skobka,rule = 'def/*[s]/*[e](/*[e,d,c,x])/?[:]')"
   ]
  }
 ],
 "metadata": {
  "kernelspec": {
   "display_name": "Python 3",
   "language": "python",
   "name": "python3"
  },
  "language_info": {
   "codemirror_mode": {
    "name": "ipython",
    "version": 3
   },
   "file_extension": ".py",
   "mimetype": "text/x-python",
   "name": "python",
   "nbconvert_exporter": "python",
   "pygments_lexer": "ipython3",
   "version": "3.6.5"
  }
 },
 "nbformat": 4,
 "nbformat_minor": 2
}
