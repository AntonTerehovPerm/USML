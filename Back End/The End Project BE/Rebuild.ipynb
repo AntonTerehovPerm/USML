{
 "cells": [
  {
   "cell_type": "code",
   "execution_count": null,
   "metadata": {},
   "outputs": [],
   "source": [
    "for x in stroka:\n",
    "    a = re.Reg_Exp_one(x,rule = 'def/*[s]/*[e](/*[e,d,c,x])/?[:]')\n",
    "    print(a)\n",
    "    #проверить, почему не проходит rule = 'def/*[e,d,c,x,s]/?[:]' в stroka"
   ]
  },
  {
   "cell_type": "code",
   "execution_count": null,
   "metadata": {},
   "outputs": [],
   "source": [
    "stroka = ['def pashtet(a): ', 'def pashtet(a/n): ', 'def pashtet ( a ): ', 'def pashtet(a):a=8','d pashtet(a):a=8', \"def pashtet({'x':1}): \"]"
   ]
  },
  {
   "cell_type": "code",
   "execution_count": 18,
   "metadata": {},
   "outputs": [],
   "source": [
    "import Pars\n",
    "import Reg_Exp as re\n",
    "import tqdm"
   ]
  },
  {
   "cell_type": "code",
   "execution_count": 19,
   "metadata": {},
   "outputs": [],
   "source": [
    "def read_code(file_name):\n",
    "    '''Читаем code и делаем список <lvl><code><language>'''\n",
    "    f = open(file_name, 'r')\n",
    "    l = [line.rstrip() for line in f]\n",
    "    f.close()\n",
    "    return l"
   ]
  },
  {
   "cell_type": "code",
   "execution_count": 20,
   "metadata": {},
   "outputs": [],
   "source": [
    "def beautiful_code(array_of_code):\n",
    "    '''Делает красивый синтаксис <lvl><code><language>'''\n",
    "    group_rule_language = {'Delphi':[],'Java':[],'C++':[],'Python':['def/*[s]/*[e](/*[e,d,c,x])/?[:]','print(/*[e,d,c,x,s]/?[)]']}\n",
    "    doing_code_language_name = {'Delphi':[],'Java':[],'C++':[],'Python':{'def/*[s]/*[e](/*[e,d,c,x])/?[:]':'функция','print(/*[e,d,c,x,s]/?[)]':'вывод'}}\n",
    "    code_all = {}\n",
    "    start_lvl = 0\n",
    "    tab_probel = 4\n",
    "    lvl_massiv = {0:0}\n",
    "    f = False\n",
    "    new_array_of_code = [[],[],[],[]]\n",
    "    for x in tqdm.tqdm_notebook(array_of_code):\n",
    "        new_array_of_code[1].append(x)#.strip())\n",
    "        \n",
    "        new_str_language = {}\n",
    "        code_name = []\n",
    "        for y in group_rule_language:\n",
    "            sum_m = 0\n",
    "            otv = re.Reg_Exp_more_rule(x,group_rule_language[y])\n",
    "            #print(otv)\n",
    "            for i,z in enumerate(otv):\n",
    "                if z != []:\n",
    "                    sum_m += len(z)\n",
    "                    code_name.append(doing_code_language_name[y][group_rule_language[y][i]])\n",
    "            if sum_m != 0:\n",
    "                new_str_language[y] = sum_m\n",
    "                code_all[y] = sum_m\n",
    "                #new_str_language['all'] += sum_m\n",
    "        new_array_of_code[2].append(new_str_language)\n",
    "        new_array_of_code[3].append(code_name)\n",
    "       \n",
    "        #проверка сколько языков используется в коде\n",
    "        #print(x)\n",
    "        if x != '':\n",
    "            x = str.encode(x)\n",
    "            #создание уровней\n",
    "            probel = 0 \n",
    "            if x[0] == 32:\n",
    "                    i = 0\n",
    "                    while x[i] == 32:\n",
    "                        i+=1\n",
    "                    probel = i\n",
    "\n",
    "            if x[0] == 9:\n",
    "                    i=0\n",
    "                    while x[i] == 9:\n",
    "                        i+=1\n",
    "                    probel = i*tab_probel \n",
    "\n",
    "            if lvl_massiv.get(probel) != None:\n",
    "                if probel == 0:\n",
    "                    #print(lvl_massiv)\n",
    "                    lvl_massiv = {0:0}\n",
    "                    start_lvl = 0\n",
    "                new_array_of_code[0].append(start_lvl)\n",
    "                #new_array_of_code[2].append(probel)\n",
    "            else:\n",
    "                start_lvl+=1\n",
    "                lvl_massiv[probel] = start_lvl\n",
    "                new_array_of_code[0].append(start_lvl)\n",
    "                #new_array_of_code[2].append(probel)\n",
    "\n",
    "    return new_array_of_code"
   ]
  },
  {
   "cell_type": "code",
   "execution_count": null,
   "metadata": {},
   "outputs": [
    {
     "name": "stdout",
     "output_type": "stream",
     "text": [
      "beautiful_code\n"
     ]
    },
    {
     "data": {
      "application/vnd.jupyter.widget-view+json": {
       "model_id": "19b2ccce23824b9a9f3a4c374f07e0ce",
       "version_major": 2,
       "version_minor": 0
      },
      "text/plain": [
       "HBox(children=(IntProgress(value=0, max=630), HTML(value='')))"
      ]
     },
     "metadata": {},
     "output_type": "display_data"
    }
   ],
   "source": [
    "#file_name = 'test.txt'\n",
    "file_name = 'ugly-code-example.txt'\n",
    "array_of_code = read_code(file_name)\n",
    "#beautiful_code(array_of_code)\n",
    "print('beautiful_code')\n",
    "a = beautiful_code(array_of_code)\n",
    "#print(a)\n",
    "print('-'*100)\n",
    "i = 0\n",
    "try:\n",
    "    for x in range(len(a[1])):\n",
    "        print(i,':',a[0][x],a[1][x],a[2][x],a[3][x])\n",
    "        i+=1\n",
    "except IndexError :\n",
    "    print('IndexError',len(a[0]),len(a[1]),len(a[2]),len(a[3]))"
   ]
  },
  {
   "cell_type": "code",
   "execution_count": null,
   "metadata": {},
   "outputs": [],
   "source": []
  },
  {
   "cell_type": "code",
   "execution_count": null,
   "metadata": {},
   "outputs": [],
   "source": []
  },
  {
   "cell_type": "code",
   "execution_count": null,
   "metadata": {},
   "outputs": [],
   "source": [
    "re.Reg_Exp_one(stroka_db_skobka,rule = 'def/*[s]/*[e](/*[e,d,c,x])/?[:]')"
   ]
  },
  {
   "cell_type": "code",
   "execution_count": null,
   "metadata": {},
   "outputs": [],
   "source": [
    "def in_str(c):\n",
    "    skobka = {'start':['(','{','[','d'],'end':[')','}',']',':']} #skobka = {'start':['(','{','['],'end':[')','}',']']}\n",
    "    f = False\n",
    "    error = False\n",
    "    for x in range(len(skobka['start'])):\n",
    "        a = skobka['start'][x]\n",
    "        b = skobka['end'][x]\n",
    "        #print(a,c)\n",
    "        if a == c: \n",
    "            f = True\n",
    "        if b == c:\n",
    "            f = True\n",
    "            error = True   \n",
    "    if f == True:\n",
    "        print('c: ',c)\n",
    "        print(f,error)\n",
    "    #print('c: '+c)\n",
    "    #print(f,error)\n",
    "    return f,error"
   ]
  },
  {
   "cell_type": "code",
   "execution_count": null,
   "metadata": {},
   "outputs": [],
   "source": [
    "def check_skobka(stroka,simvol):\n",
    "    skobka = {'(':')' ,'{':'}' ,'[':']','d':':'}\n",
    "    depht = skobka[simvol]\n",
    "    nomber = 0\n",
    "    i = 0\n",
    "    f = False\n",
    "    while nomber == 0:\n",
    "        if stroka[i] == depht:\n",
    "            nomber = i \n",
    "            f = True\n",
    "        i += 1\n",
    "    return f,nomber"
   ]
  },
  {
   "cell_type": "code",
   "execution_count": null,
   "metadata": {},
   "outputs": [],
   "source": [
    "def razbor_strok_po_code(stroka):\n",
    "    zareserv_perem = {'def':1}\n",
    "    spec_simvol = [':','=']\n",
    "    #skobka = {'start':['(','{','['],'end':[')','}',']']}\n",
    "    arr_code = {}\n",
    "    arr_peremen = {}\n",
    "    arr_skobka = []\n",
    "    #разбиение строки на подстроки через пробел\n",
    "    #создание всех символов строки в список с точками\n",
    "    print(\"Code: '\"+stroka+\"'\")\n",
    "    print('-'*100)\n",
    "    for i,x in enumerate(stroka):\n",
    "        a = in_str(x)\n",
    "        if (a[0]):\n",
    "            #print('прошел 1')\n",
    "            if (a[1] == False):\n",
    "                d = check_skobka(stroka[i:len(stroka)-1],x)\n",
    "                if d[0]:#именно здеь нужно сделать переход к rex_exp с правилами\n",
    "                    s = stroka[i:i+d[1]+1]#Reg_exp\n",
    "                    print(i,i+d[1]+1)\n",
    "                    print('s: ',s)\n",
    "                    arr_skobka.append(s)\n",
    "                else:\n",
    "                    print('скобка лишь открыта!!1')\n",
    "            else:\n",
    "                print('скобка лишь закрыта!!1') \n",
    "        if a[0]:\n",
    "            print('-'*100)\n",
    "            \n",
    "    return arr_code,arr_peremen,arr_skobka"
   ]
  },
  {
   "cell_type": "code",
   "execution_count": null,
   "metadata": {},
   "outputs": [],
   "source": [
    "razbor_strok_po_code(stroka)"
   ]
  },
  {
   "cell_type": "code",
   "execution_count": null,
   "metadata": {},
   "outputs": [],
   "source": [
    "razbor_strok_po_code(stroka_db_skobka)"
   ]
  },
  {
   "cell_type": "code",
   "execution_count": null,
   "metadata": {},
   "outputs": [],
   "source": [
    "razbor_strok_po_code(stroka_tag)"
   ]
  },
  {
   "cell_type": "code",
   "execution_count": null,
   "metadata": {},
   "outputs": [],
   "source": [
    "razbor_strok_po_code(stroka_v)"
   ]
  },
  {
   "cell_type": "code",
   "execution_count": null,
   "metadata": {},
   "outputs": [],
   "source": [
    "razbor_strok_po_code(stroka_2)"
   ]
  },
  {
   "cell_type": "code",
   "execution_count": null,
   "metadata": {},
   "outputs": [],
   "source": [
    "razbor_strok_po_code(stroka_fake)"
   ]
  },
  {
   "cell_type": "code",
   "execution_count": null,
   "metadata": {},
   "outputs": [],
   "source": []
  }
 ],
 "metadata": {
  "kernelspec": {
   "display_name": "Python 3",
   "language": "python",
   "name": "python3"
  },
  "language_info": {
   "codemirror_mode": {
    "name": "ipython",
    "version": 3
   },
   "file_extension": ".py",
   "mimetype": "text/x-python",
   "name": "python",
   "nbconvert_exporter": "python",
   "pygments_lexer": "ipython3",
   "version": "3.6.5"
  }
 },
 "nbformat": 4,
 "nbformat_minor": 2
}
