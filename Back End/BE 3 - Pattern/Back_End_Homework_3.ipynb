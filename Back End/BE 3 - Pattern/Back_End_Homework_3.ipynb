{
 "cells": [
  {
   "cell_type": "markdown",
   "metadata": {},
   "source": [
    "# Back_End"
   ]
  },
  {
   "cell_type": "markdown",
   "metadata": {},
   "source": [
    "## Homework_3"
   ]
  },
  {
   "cell_type": "markdown",
   "metadata": {},
   "source": [
    "Изучить паттерны проектирования, применить к прошлому домашнему заданию минимум по одному паттерну из каждой категории (порождающие, структурные, поведенческие). Код должен соответствовать SOLID принципам. В readme файле укажите обоснование использования паттерна."
   ]
  },
  {
   "cell_type": "markdown",
   "metadata": {},
   "source": [
    "Прошу прощения, что не в readme, но так проще отразить все три типа паттеронов и описать их в виде документов к классам"
   ]
  },
  {
   "cell_type": "markdown",
   "metadata": {},
   "source": [
    "материал: https://ru.coursera.org/lecture/oop-patterns-python/klassifikatsiia-pattiernov-proiektirovaniia-rBxLz"
   ]
  },
  {
   "cell_type": "code",
   "execution_count": 1,
   "metadata": {},
   "outputs": [
    {
     "name": "stdout",
     "output_type": "stream",
     "text": [
      "Car <ferrary> result: 12.640704\n",
      "Car <bugatti> result: 12.855487\n",
      "Car <toyota> result: 21.579364\n",
      "Car <lada> result: 25.797309\n",
      "Car <sx4> result: 22.781083\n"
     ]
    }
   ],
   "source": [
    "from random import randint\n",
    "\n",
    "class Car():\n",
    "    '''В данном случае используется порождающий паттр - строитель или абстрактная фабрика(создание группы взаимосвязанных объектов)'''\n",
    "    def update_car(self):\n",
    "            n = input('Какое количество машин вы хотели бы добавить?')\n",
    "            for x in range(0,n):\n",
    "                name = input('Введите название машины:')\n",
    "                self.CAR_SPECS[name] = {}\n",
    "                self.CAR_SPECS[name][\"max_speed\"] = input('Введите максимальную скорость машины:')\n",
    "                self.CAR_SPECS[name][\"drag_coef\"] = input('Введите коэффициент сопротивления машины:')\n",
    "                self.CAR_SPECS[name][\"time_to_max\"] = input('Введите время разгона до максимальной скорости:')\n",
    "                \n",
    "    CAR_SPECS = {\n",
    "        'ferrary': {\"max_speed\": 340, \"drag_coef\": 0.324, \"time_to_max\": 26},\n",
    "        'bugatti': {\"max_speed\": 407, \"drag_coef\": 0.39, \"time_to_max\": 32},\n",
    "        'toyota': {\"max_speed\": 180, \"drag_coef\": 0.25, \"time_to_max\": 40},\n",
    "        'lada': {\"max_speed\": 180, \"drag_coef\": 0.32, \"time_to_max\": 56},\n",
    "        'sx4': {\"max_speed\": 180, \"drag_coef\": 0.33, \"time_to_max\": 44},}\n",
    "\n",
    "\n",
    "class Weather():\n",
    "    '''В данном случае используется структурный декоратор property - для создания дополнительного повведения объекта.'''\n",
    "    def __init__(self):\n",
    "        self.wind_speed = 20\n",
    "        \n",
    "    @property\n",
    "    def get_wind_speed(self):\n",
    "        return randint(0, self.wind_speed)\n",
    "\n",
    "class Competitions(Car):\n",
    "    instanse = None\n",
    "    \n",
    "    def __new__(cls,distance):\n",
    "        if cls.instanse is None:\n",
    "            cls.instanse = super().__new__(cls)\n",
    "        else: print('Уже создано!!!')\n",
    "        return cls.instanse\n",
    "    \n",
    "    def __init__(self,distance):\n",
    "        self.distance = distance\n",
    "    '''В данном случае используется поведенческий паттрн - Посетитель(выполнение операции над группой объектов класса Car)'''    \n",
    "    def start(self,competitors):\n",
    "        weather = Weather()\n",
    "        \n",
    "        for competitor_name in competitors:\n",
    "            competitor_time = 0\n",
    "            competitor_speed = 0\n",
    "            car = self.CAR_SPECS[competitor_name]\n",
    "\n",
    "            for self.distance in range(self.distance):\n",
    "                _wind_speed = weather.get_wind_speed\n",
    "\n",
    "                if competitor_time == 0:\n",
    "                    _speed = 1\n",
    "                else:\n",
    "                    _speed = (competitor_time / car[\"time_to_max\"]) * car['max_speed']\n",
    "                    if _speed > _wind_speed:\n",
    "                        _speed -= (car[\"drag_coef\"] * _wind_speed)\n",
    "\n",
    "                competitor_time += float(1) / _speed\n",
    "\n",
    "            print(\"Car <%s> result: %f\" % (competitor_name, competitor_time))\n",
    "        \n",
    "competitors = ('ferrary', 'bugatti', 'toyota', 'lada', 'sx4')\n",
    "w_t = Competitions(1000)\n",
    "w_t.start(competitors)"
   ]
  },
  {
   "cell_type": "code",
   "execution_count": null,
   "metadata": {},
   "outputs": [],
   "source": []
  }
 ],
 "metadata": {
  "kernelspec": {
   "display_name": "Python 3",
   "language": "python",
   "name": "python3"
  },
  "language_info": {
   "codemirror_mode": {
    "name": "ipython",
    "version": 3
   },
   "file_extension": ".py",
   "mimetype": "text/x-python",
   "name": "python",
   "nbconvert_exporter": "python",
   "pygments_lexer": "ipython3",
   "version": "3.6.5"
  }
 },
 "nbformat": 4,
 "nbformat_minor": 2
}
